{
 "cells": [
  {
   "cell_type": "code",
   "execution_count": 1,
   "metadata": {},
   "outputs": [],
   "source": [
    "class DataStorage:\n",
    "    data = [x for x in range(10)]\n",
    "    "
   ]
  },
  {
   "cell_type": "code",
   "execution_count": 2,
   "metadata": {},
   "outputs": [],
   "source": [
    "d = DataStorage()"
   ]
  },
  {
   "cell_type": "code",
   "execution_count": 3,
   "metadata": {},
   "outputs": [],
   "source": [
    "d[2]"
   ]
  },
  {
   "cell_type": "code",
   "execution_count": 4,
   "metadata": {},
   "outputs": [],
   "source": [
    "class DataStorage:\n",
    "    data = [x for x in range(10)]\n",
    "    def __getitem__(self, index):\n",
    "        return self.data[index]\n",
    "    "
   ]
  },
  {
   "cell_type": "code",
   "execution_count": 5,
   "metadata": {},
   "outputs": [],
   "source": [
    "d = DataStorage()"
   ]
  },
  {
   "cell_type": "code",
   "execution_count": 6,
   "metadata": {},
   "outputs": [],
   "source": [
    "d[2]"
   ]
  },
  {
   "cell_type": "code",
   "execution_count": 7,
   "metadata": {},
   "outputs": [],
   "source": [
    "dir(object)"
   ]
  },
  {
   "cell_type": "code",
   "execution_count": 8,
   "metadata": {},
   "outputs": [],
   "source": [
    "dir(list())"
   ]
  },
  {
   "cell_type": "code",
   "execution_count": 9,
   "metadata": {},
   "outputs": [],
   "source": [
    "l = [1,2,3]"
   ]
  },
  {
   "cell_type": "code",
   "execution_count": 10,
   "metadata": {},
   "outputs": [],
   "source": [
    "del l[0]"
   ]
  },
  {
   "cell_type": "code",
   "execution_count": 11,
   "metadata": {},
   "outputs": [],
   "source": [
    "l"
   ]
  },
  {
   "cell_type": "code",
   "execution_count": 12,
   "metadata": {},
   "outputs": [],
   "source": [
    "d"
   ]
  },
  {
   "cell_type": "code",
   "execution_count": 13,
   "metadata": {},
   "outputs": [],
   "source": [
    "d[9]"
   ]
  },
  {
   "cell_type": "code",
   "execution_count": 14,
   "metadata": {},
   "outputs": [],
   "source": [
    "l[0] = 42"
   ]
  },
  {
   "cell_type": "code",
   "execution_count": 15,
   "metadata": {},
   "outputs": [],
   "source": [
    "l"
   ]
  },
  {
   "cell_type": "code",
   "execution_count": 16,
   "metadata": {},
   "outputs": [],
   "source": [
    "class DataStorage:\n",
    "    data = [x for x in range(10)]\n",
    "    def __getitem__(self, index):\n",
    "        return self.data[index]\n",
    "    "
   ]
  },
  {
   "cell_type": "code",
   "execution_count": 17,
   "metadata": {},
   "outputs": [],
   "source": [
    "class DataStorage:\n",
    "    data = [x for x in range(10)]\n",
    "    def __getitem__(self, index):\n",
    "        return self.data[index]\n",
    "    def __setitem__(self, index, value):\n",
    "        self.data[index]=value\n",
    "        "
   ]
  },
  {
   "cell_type": "code",
   "execution_count": 18,
   "metadata": {},
   "outputs": [],
   "source": [
    "d = DataStorage()"
   ]
  },
  {
   "cell_type": "code",
   "execution_count": 19,
   "metadata": {},
   "outputs": [],
   "source": [
    "d[0]"
   ]
  },
  {
   "cell_type": "code",
   "execution_count": 20,
   "metadata": {},
   "outputs": [],
   "source": [
    "d[0] = 42"
   ]
  },
  {
   "cell_type": "code",
   "execution_count": 21,
   "metadata": {},
   "outputs": [],
   "source": [
    "d[0]"
   ]
  },
  {
   "cell_type": "code",
   "execution_count": 22,
   "metadata": {},
   "outputs": [],
   "source": [
    "l2 = [1,2,3]"
   ]
  },
  {
   "cell_type": "code",
   "execution_count": 23,
   "metadata": {},
   "outputs": [],
   "source": [
    "next(l2)"
   ]
  },
  {
   "cell_type": "code",
   "execution_count": 24,
   "metadata": {},
   "outputs": [],
   "source": [
    "counter = iter(l2)"
   ]
  },
  {
   "cell_type": "code",
   "execution_count": 25,
   "metadata": {},
   "outputs": [],
   "source": [
    "counter"
   ]
  },
  {
   "cell_type": "code",
   "execution_count": 26,
   "metadata": {},
   "outputs": [],
   "source": [
    "next(counter)"
   ]
  },
  {
   "cell_type": "code",
   "execution_count": 27,
   "metadata": {},
   "outputs": [],
   "source": [
    "next(counter)"
   ]
  },
  {
   "cell_type": "code",
   "execution_count": 28,
   "metadata": {},
   "outputs": [],
   "source": [
    "next(counter)"
   ]
  },
  {
   "cell_type": "code",
   "execution_count": 29,
   "metadata": {},
   "outputs": [],
   "source": [
    "next(counter)"
   ]
  },
  {
   "cell_type": "code",
   "execution_count": 30,
   "metadata": {},
   "outputs": [],
   "source": [
    "class DataStorage:\n",
    "    data = [x for x in range(10)]\n",
    "    def __getitem__(self, index):\n",
    "        return self.data[index]\n",
    "    def __setitem__(self, index, value):\n",
    "        self.data[index]=value\n",
    "    def __iter__(self):\n",
    "        return iter(self.data)\n",
    "    "
   ]
  },
  {
   "cell_type": "code",
   "execution_count": 31,
   "metadata": {},
   "outputs": [],
   "source": [
    "d = DataStorage()"
   ]
  },
  {
   "cell_type": "code",
   "execution_count": 32,
   "metadata": {},
   "outputs": [],
   "source": [
    "next(d)"
   ]
  },
  {
   "cell_type": "code",
   "execution_count": 33,
   "metadata": {},
   "outputs": [],
   "source": [
    "for i in d:\n",
    "    print(i)\n",
    "    "
   ]
  },
  {
   "cell_type": "code",
   "execution_count": 34,
   "metadata": {},
   "outputs": [],
   "source": [
    "class DataStorage:\n",
    "    data = [x for x in range(10)]\n",
    "    index = 0\n",
    "    def __getitem__(self, index):\n",
    "        return self.data[index]\n",
    "    def __setitem__(self, index, value):\n",
    "        self.data[index]=value\n",
    "    def __iter__(self):\n",
    "        return iter(self.data)\n",
    "    "
   ]
  },
  {
   "cell_type": "code",
   "execution_count": 35,
   "metadata": {},
   "outputs": [],
   "source": [
    "class DataStorage:\n",
    "    data = [x for x in range(10)]\n",
    "    index = 0\n",
    "    def __getitem__(self, index):\n",
    "        return self.data[index]\n",
    "    def __setitem__(self, index, value):\n",
    "        self.data[index]=value\n",
    "    def __iter__(self):\n",
    "        return iter(self.data)\n",
    "    def __next__(self):\n",
    "        self.index +=1\n",
    "        return self.index\n",
    "    "
   ]
  },
  {
   "cell_type": "code",
   "execution_count": 36,
   "metadata": {},
   "outputs": [],
   "source": [
    "d = DataStorage()"
   ]
  },
  {
   "cell_type": "code",
   "execution_count": 37,
   "metadata": {},
   "outputs": [],
   "source": [
    "next(d)"
   ]
  },
  {
   "cell_type": "code",
   "execution_count": 38,
   "metadata": {},
   "outputs": [],
   "source": [
    "next(d)"
   ]
  },
  {
   "cell_type": "code",
   "execution_count": 39,
   "metadata": {},
   "outputs": [],
   "source": [
    "next(d)"
   ]
  },
  {
   "cell_type": "code",
   "execution_count": 40,
   "metadata": {},
   "outputs": [],
   "source": [
    "next(d)"
   ]
  },
  {
   "cell_type": "code",
   "execution_count": 41,
   "metadata": {},
   "outputs": [],
   "source": [
    "class DataStorage:\n",
    "    data = [x for x in range(10)]\n",
    "    index = 0\n",
    "    def __getitem__(self, index):\n",
    "        return self.data[index]\n",
    "    def __setitem__(self, index, value):\n",
    "        self.data[index]=value\n",
    "    def __iter__(self):\n",
    "        return iter(self.data)\n",
    "    def __next__(self):\n",
    "        return self.data.__next__()\n",
    "    \n",
    "    "
   ]
  },
  {
   "cell_type": "code",
   "execution_count": 42,
   "metadata": {},
   "outputs": [],
   "source": [
    "d = DataStorage()"
   ]
  },
  {
   "cell_type": "code",
   "execution_count": 43,
   "metadata": {},
   "outputs": [],
   "source": [
    "next(d)"
   ]
  },
  {
   "cell_type": "code",
   "execution_count": 44,
   "metadata": {},
   "outputs": [],
   "source": [
    "class DataStorage:\n",
    "    data = [x for x in range(10)]\n",
    "    index = 0\n",
    "    def __getitem__(self, index):\n",
    "        return self.data[index]\n",
    "    def __setitem__(self, index, value):\n",
    "        self.data[index]=value\n",
    "    def __iter__(self):\n",
    "        return iter(self.data)\n",
    "    def __next__(self):\n",
    "        return self.data.__next__()\n",
    "    \n",
    "    def __getattr__(self, name):\n",
    "        if name == 'data':\n",
    "            raise AttributeError\n",
    "        return super().__getattr__(name)\n",
    "    "
   ]
  },
  {
   "cell_type": "code",
   "execution_count": 45,
   "metadata": {},
   "outputs": [],
   "source": [
    "d = DataStorage()"
   ]
  },
  {
   "cell_type": "code",
   "execution_count": 46,
   "metadata": {},
   "outputs": [],
   "source": [
    "d.data"
   ]
  },
  {
   "cell_type": "code",
   "execution_count": 47,
   "metadata": {},
   "outputs": [],
   "source": [
    "class DataStorage:\n",
    "    data = [x for x in range(10)]\n",
    "    index = 0\n",
    "    def __getitem__(self, index):\n",
    "        return self.data[index]\n",
    "    def __setitem__(self, index, value):\n",
    "        self.data[index]=value\n",
    "    def __iter__(self):\n",
    "        return iter(self.data)\n",
    "    def __next__(self):\n",
    "        return self.data.__next__()\n",
    "    \n",
    "    def __getattr__(self, name):\n",
    "        print(name)\n",
    "        if name == 'data':\n",
    "            raise AttributeError('')\n",
    "        return super().__getattr__(name)\n",
    "    "
   ]
  },
  {
   "cell_type": "code",
   "execution_count": 48,
   "metadata": {},
   "outputs": [],
   "source": [
    "d = DataStorage()"
   ]
  },
  {
   "cell_type": "code",
   "execution_count": 49,
   "metadata": {},
   "outputs": [],
   "source": [
    "d.name"
   ]
  },
  {
   "cell_type": "code",
   "execution_count": 50,
   "metadata": {},
   "outputs": [],
   "source": [
    "d.data"
   ]
  },
  {
   "cell_type": "code",
   "execution_count": 51,
   "metadata": {},
   "outputs": [],
   "source": [
    "class DataStorage:\n",
    "    data = [x for x in range(10)]\n",
    "    index = 0\n",
    "    def __getitem__(self, index):\n",
    "        return self.data[index]\n",
    "    def __setitem__(self, index, value):\n",
    "        self.data[index]=value\n",
    "    def __iter__(self):\n",
    "        return iter(self.data)\n",
    "    def __next__(self):\n",
    "        return self.data.__next__()\n",
    "    \n",
    "    def __getattr__(self, name):\n",
    "        print(name)\n",
    "        if name == 'data':\n",
    "            return 42\n",
    "        return -42\n",
    "    \n",
    "    "
   ]
  },
  {
   "cell_type": "code",
   "execution_count": 52,
   "metadata": {},
   "outputs": [],
   "source": [
    "d = DataStorage()"
   ]
  },
  {
   "cell_type": "code",
   "execution_count": 53,
   "metadata": {},
   "outputs": [],
   "source": [
    "d.name"
   ]
  },
  {
   "cell_type": "code",
   "execution_count": 54,
   "metadata": {},
   "outputs": [],
   "source": [
    "d.data"
   ]
  },
  {
   "cell_type": "code",
   "execution_count": 55,
   "metadata": {},
   "outputs": [],
   "source": [
    "class DataStorage:\n",
    "    data = [x for x in range(10)]\n",
    "    index = 0\n",
    "    def __getitem__(self, index):\n",
    "        return self.data[index]\n",
    "    def __setitem__(self, index, value):\n",
    "        self.data[index]=value\n",
    "    def __iter__(self):\n",
    "        return iter(self.data)\n",
    "    def __next__(self):\n",
    "        return self.data.__next__()\n",
    "    \n",
    "    def __getattr__(self, name):\n",
    "        print(name)\n",
    "        if name == 'data':\n",
    "            return 42\n",
    "        return -42\n",
    "    \n",
    "    def __getattribute__(self, name):\n",
    "        if name == 'data':\n",
    "            raise AttributeError\n",
    "        else:\n",
    "            return getattr(self, name)\n",
    "        \n",
    "        "
   ]
  },
  {
   "cell_type": "code",
   "execution_count": 56,
   "metadata": {},
   "outputs": [],
   "source": [
    "d = DataStorage()"
   ]
  },
  {
   "cell_type": "code",
   "execution_count": 57,
   "metadata": {},
   "outputs": [],
   "source": [
    "d.data"
   ]
  },
  {
   "cell_type": "code",
   "execution_count": 58,
   "metadata": {},
   "outputs": [],
   "source": [
    "class DataStorage:\n",
    "    data = [x for x in range(10)]\n",
    "    index = 0\n",
    "    def __getitem__(self, index):\n",
    "        return self.data[index]\n",
    "    def __setitem__(self, index, value):\n",
    "        self.data[index]=value\n",
    "    def __iter__(self):\n",
    "        return iter(self.data)\n",
    "    def __next__(self):\n",
    "        return self.data.__next__()\n",
    "    \n",
    "    def __getattr__(self, name):\n",
    "        print(name)\n",
    "        if name == 'data':\n",
    "            raise AttributeError('')\n",
    "        return -42\n",
    "    \n",
    "    def __getattribute__(self, name):\n",
    "        if name == 'data':\n",
    "            raise AttributeError('')\n",
    "        else:\n",
    "            return getattr(self, name)\n",
    "        \n",
    "        "
   ]
  },
  {
   "cell_type": "code",
   "execution_count": 59,
   "metadata": {},
   "outputs": [],
   "source": [
    "d = DataStorage()"
   ]
  },
  {
   "cell_type": "code",
   "execution_count": 60,
   "metadata": {},
   "outputs": [],
   "source": [
    "class DataStorage:\n",
    "    data = [x for x in range(10)]\n",
    "    index = 0\n",
    "    def __getitem__(self, index):\n",
    "        return self.data[index]\n",
    "    def __setitem__(self, index, value):\n",
    "        self.data[index]=value\n",
    "    def __iter__(self):\n",
    "        return iter(self.data)\n",
    "    def __next__(self):\n",
    "        return self.data.__next__()\n",
    "    \n",
    "    def __getattr__(self, name):\n",
    "        print(name)\n",
    "        if name == 'data':\n",
    "            raise AttributeError('')\n",
    "        return -42\n",
    "    \n",
    "    def __getattribute__(self, name):\n",
    "        if name == 'data':\n",
    "            raise AttributeError('')\n",
    "        else:\n",
    "            return self.__getattr__(name)\n",
    "        \n",
    "        \n",
    "        "
   ]
  },
  {
   "cell_type": "code",
   "execution_count": 61,
   "metadata": {},
   "outputs": [],
   "source": [
    "d = DataStorage()"
   ]
  },
  {
   "cell_type": "code",
   "execution_count": 62,
   "metadata": {},
   "outputs": [],
   "source": [
    "class DataStorage:\n",
    "    data = [x for x in range(10)]\n",
    "    index = 0\n",
    "    def __getitem__(self, index):\n",
    "        return self.data[index]\n",
    "    def __setitem__(self, index, value):\n",
    "        self.data[index]=value\n",
    "    def __iter__(self):\n",
    "        return iter(self.data)\n",
    "    def __next__(self):\n",
    "        return self.data.__next__()\n",
    "    \n",
    "    def __getattr__(self, name):\n",
    "        print(name)\n",
    "        if name == 'data':\n",
    "            raise AttributeError('')\n",
    "        return -42\n",
    "    \n",
    "    def __getattribute__(self, name):\n",
    "        if name == 'data':\n",
    "            raise AttributeError('')\n",
    "        else:\n",
    "            return 0\n",
    "    def __setattr__(self, name, value):\n",
    "        self.index += 1\n",
    "        self.__dict__[name] = value\n",
    "        \n",
    "        \n",
    "        \n",
    "        "
   ]
  },
  {
   "cell_type": "code",
   "execution_count": 63,
   "metadata": {},
   "outputs": [],
   "source": [
    "d = DataStorage"
   ]
  },
  {
   "cell_type": "code",
   "execution_count": 64,
   "metadata": {},
   "outputs": [],
   "source": [
    "class DataStorage:\n",
    "    data = [x for x in range(10)]\n",
    "    index = 0\n",
    "    def __getitem__(self, index):\n",
    "        return self.data[index]\n",
    "    def __setitem__(self, index, value):\n",
    "        self.data[index]=value\n",
    "    def __iter__(self):\n",
    "        return iter(self.data)\n",
    "    def __next__(self):\n",
    "        return self.data.__next__()\n",
    "    \n",
    "    def __getattr__(self, name):\n",
    "        print(name)\n",
    "        if name == 'data':\n",
    "            raise AttributeError('')\n",
    "        return -42\n",
    "    \n",
    "    def __getattribute__(self, name):\n",
    "        if name == 'data':\n",
    "            raise AttributeError('')\n",
    "        else:\n",
    "            return 0\n",
    "    def __setattr__(self, name, value):\n",
    "        self.index += 1\n",
    "        self.__dict__[name] = value\n",
    "        \n",
    "        \n",
    "        \n",
    "        "
   ]
  },
  {
   "cell_type": "code",
   "execution_count": 65,
   "metadata": {},
   "outputs": [],
   "source": [
    "d2 = DataStorage()"
   ]
  },
  {
   "cell_type": "code",
   "execution_count": 66,
   "metadata": {},
   "outputs": [],
   "source": [
    "d2.attr2 = 20"
   ]
  },
  {
   "cell_type": "code",
   "execution_count": 67,
   "metadata": {},
   "outputs": [],
   "source": [
    "class C:\n",
    "    data = 42\n",
    "    def __call__(self):\n",
    "        return self.data\n",
    "    "
   ]
  },
  {
   "cell_type": "code",
   "execution_count": 68,
   "metadata": {},
   "outputs": [],
   "source": [
    "c = C()"
   ]
  },
  {
   "cell_type": "code",
   "execution_count": 69,
   "metadata": {},
   "outputs": [],
   "source": [
    "c()"
   ]
  },
  {
   "cell_type": "code",
   "execution_count": 70,
   "metadata": {},
   "outputs": [],
   "source": [
    "class C:\n",
    "    def __call__(self, name):\n",
    "        return 'Hello {}'.format(name)\n",
    "    "
   ]
  },
  {
   "cell_type": "code",
   "execution_count": 71,
   "metadata": {},
   "outputs": [],
   "source": [
    "c = C()"
   ]
  },
  {
   "cell_type": "code",
   "execution_count": 72,
   "metadata": {},
   "outputs": [],
   "source": [
    "c()"
   ]
  },
  {
   "cell_type": "code",
   "execution_count": 73,
   "metadata": {},
   "outputs": [],
   "source": [
    "c(\"konь\")"
   ]
  },
  {
   "cell_type": "code",
   "execution_count": 74,
   "metadata": {},
   "outputs": [],
   "source": [
    "class Cat:\n",
    "    name = 'Pupkin'\n",
    "    "
   ]
  },
  {
   "cell_type": "code",
   "execution_count": 75,
   "metadata": {},
   "outputs": [],
   "source": [
    "class Dog:\n",
    "    name = 'Pes'\n",
    "    "
   ]
  },
  {
   "cell_type": "code",
   "execution_count": 76,
   "metadata": {},
   "outputs": [],
   "source": [
    "class Shop:\n",
    "    def get_pet(name):\n",
    "        if name == 'cat':\n",
    "            return Cat()\n",
    "        elif name == 'dog':\n",
    "            return Dog()\n",
    "        else None"
   ]
  },
  {
   "cell_type": "code",
   "execution_count": 77,
   "metadata": {},
   "outputs": [],
   "source": [
    "class Shop:\n",
    "    def get_pet(name):\n",
    "        if name == 'cat':\n",
    "            return Cat()\n",
    "        elif name == 'dog':\n",
    "            return Dog()\n",
    "        else:\n",
    "            return None\n",
    "        "
   ]
  },
  {
   "cell_type": "code",
   "execution_count": 78,
   "metadata": {},
   "outputs": [],
   "source": [
    "s = Shop()"
   ]
  },
  {
   "cell_type": "code",
   "execution_count": 79,
   "metadata": {},
   "outputs": [],
   "source": [
    "s.get_pet('cat').name"
   ]
  },
  {
   "cell_type": "code",
   "execution_count": 80,
   "metadata": {},
   "outputs": [],
   "source": [
    "class Shop:\n",
    "    def get_pet(self, name):\n",
    "        if name == 'cat':\n",
    "            return Cat()\n",
    "        elif name == 'dog':\n",
    "            return Dog()\n",
    "        else:\n",
    "            return None\n",
    "        "
   ]
  },
  {
   "cell_type": "code",
   "execution_count": 81,
   "metadata": {},
   "outputs": [],
   "source": [
    "s = Shop()"
   ]
  },
  {
   "cell_type": "code",
   "execution_count": 82,
   "metadata": {},
   "outputs": [],
   "source": [
    "s.get_pet('cat').name"
   ]
  },
  {
   "cell_type": "code",
   "execution_count": 83,
   "metadata": {},
   "outputs": [],
   "source": [
    "s.get_pet('cattttt').name"
   ]
  },
  {
   "cell_type": "code",
   "execution_count": 84,
   "metadata": {},
   "outputs": [],
   "source": [
    "s.get_pet('cat')"
   ]
  },
  {
   "cell_type": "code",
   "execution_count": 85,
   "metadata": {},
   "outputs": [],
   "source": [
    "class MisterryCat:\n",
    "    def __new__(cls):\n",
    "        return Dog()\n",
    "    def __init__(self, name):\n",
    "        self.name = name\n",
    "        "
   ]
  },
  {
   "cell_type": "code",
   "execution_count": 86,
   "metadata": {},
   "outputs": [],
   "source": [
    "m = MisterryCat()"
   ]
  },
  {
   "cell_type": "code",
   "execution_count": 87,
   "metadata": {},
   "outputs": [],
   "source": [
    "m"
   ]
  },
  {
   "cell_type": "code",
   "execution_count": 88,
   "metadata": {},
   "outputs": [],
   "source": [
    "class Dog:\n",
    "    name = 'Pes'\n",
    "    def __add__(self, obj):\n",
    "        return self.name + obj.name\n",
    "    "
   ]
  },
  {
   "cell_type": "code",
   "execution_count": 89,
   "metadata": {},
   "outputs": [],
   "source": [
    "Dog() + Cat()"
   ]
  },
  {
   "cell_type": "code",
   "execution_count": 90,
   "metadata": {},
   "outputs": [],
   "source": [
    "2 + \"sds\""
   ]
  },
  {
   "cell_type": "code",
   "execution_count": 91,
   "metadata": {},
   "outputs": [],
   "source": [
    "\"asf\" + 2"
   ]
  },
  {
   "cell_type": "code",
   "execution_count": 92,
   "metadata": {},
   "outputs": [],
   "source": [
    "2*\"asf\""
   ]
  }
 ],
 "metadata": {},
 "nbformat": 4,
 "nbformat_minor": 2
}
